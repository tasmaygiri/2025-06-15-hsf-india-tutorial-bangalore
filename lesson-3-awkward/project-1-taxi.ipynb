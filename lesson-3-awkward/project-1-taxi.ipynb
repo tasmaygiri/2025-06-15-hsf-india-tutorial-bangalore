{
 "cells": [
  {
   "cell_type": "markdown",
   "id": "e81a5898-733b-4fd1-ad91-33d363cc4e29",
   "metadata": {
    "editable": true,
    "slideshow": {
     "slide_type": ""
    },
    "tags": []
   },
   "source": [
    "# Lesson 3 project 1: Taxi path lengths"
   ]
  },
  {
   "cell_type": "code",
   "execution_count": null,
   "id": "b8aa2439-1648-4eaf-9cb3-1caaa7242d8c",
   "metadata": {
    "editable": true,
    "slideshow": {
     "slide_type": ""
    },
    "tags": []
   },
   "outputs": [],
   "source": [
    "import numpy as np\n",
    "import pandas as pd\n",
    "import matplotlib\n",
    "import matplotlib.pyplot as plt\n",
    "import awkward as ak"
   ]
  },
  {
   "cell_type": "markdown",
   "id": "8befacb0-e65b-4c95-a816-a02295b50cc2",
   "metadata": {
    "editable": true,
    "slideshow": {
     "slide_type": ""
    },
    "tags": []
   },
   "source": [
    "<br><br><br>"
   ]
  },
  {
   "cell_type": "markdown",
   "id": "9b5a36a9-5339-4412-8af7-f69aa45f0c88",
   "metadata": {},
   "source": [
    "## Chicago taxis"
   ]
  },
  {
   "cell_type": "markdown",
   "id": "5913de30-9bfb-44b9-947a-581ac05d5f90",
   "metadata": {
    "editable": true,
    "slideshow": {
     "slide_type": ""
    },
    "tags": []
   },
   "source": [
    "The City of Chicago has a [Data Portal](https://data.cityofchicago.org/) with lots of interesting datasets.\n",
    "\n",
    "This exercise uses a dataset of [Chicago taxi trips](https://data.cityofchicago.org/Transportation/Taxi-Trips/wrvz-psew) taken from 2019 through 2021 (3 years).\n",
    "\n",
    "Here's a map of Chicago, for reference:\n",
    "\n",
    "<center>\n",
    "<img src=\"../img/USA_Chicago_location_map.svg\" width=\"500px\">\n",
    "</center>\n",
    "\n",
    "Taxis rarely drive into the lake (blue on the right), but they do often go to the airport (yellow ball on the top-left).\n",
    "\n",
    "The dataset that the Data Portal provides has trip start and stop points as longitude, latitude pairs, as well as start and end times (date-stamps), payment details, and the name of each taxi company.\n",
    "\n",
    "For this exercise, I also added an estimated route of each taxi trip using [Open Source Routing Machine (OSRM)](http://project-osrm.org/).\n",
    "\n",
    "The dataset has three levels of nesting:\n",
    "\n",
    "   1. taxis\n",
    "   2. trips taken by each taxi\n",
    "   3. points along each trip taking by each taxi\n",
    "\n",
    "and those levels have variable lengths: each taxi takes a different number of trips and each trip has a different number of points.\n",
    "\n",
    "Our dataset is formatted as a 611 MB [Apache Parquet](https://parquet.apache.org/) file, provided here: [https://zenodo.org/records/14537442/files/chicago-taxi.parquet](https://zenodo.org/records/14537442/files/chicago-taxi.parquet)."
   ]
  },
  {
   "cell_type": "markdown",
   "id": "a02a5847-1154-4d88-bc16-cef31d638314",
   "metadata": {},
   "source": [
    "<br><br><br>"
   ]
  },
  {
   "cell_type": "markdown",
   "id": "8c5d6cf7-9025-4e31-ac8c-0a4aca7b4ca8",
   "metadata": {},
   "source": [
    "## Reading the dataset"
   ]
  },
  {
   "cell_type": "markdown",
   "id": "f3f5e63a-40b4-4b58-b040-2b50c26c4838",
   "metadata": {},
   "source": [
    "We can use Awkward Array's [ak.from_parquet](https://awkward-array.org/doc/main/reference/generated/ak.from_parquet.html) function to read the data."
   ]
  },
  {
   "cell_type": "code",
   "execution_count": null,
   "id": "9c28b470-a199-4f5c-98d6-ceb8f255a192",
   "metadata": {
    "tags": []
   },
   "outputs": [],
   "source": [
    "taxi = ak.from_parquet(\n",
    "    \"https://zenodo.org/records/14537442/files/chicago-taxi.parquet\",\n",
    "    row_groups=[0],\n",
    ")\n",
    "taxi"
   ]
  },
  {
   "cell_type": "markdown",
   "id": "6442481f-1c66-4ae4-b111-2b722c1f7a37",
   "metadata": {},
   "source": [
    "<br><br><br>"
   ]
  },
  {
   "cell_type": "markdown",
   "id": "3325627a-ec54-4482-8458-4e535c33b258",
   "metadata": {},
   "source": [
    "### Specifying row groups"
   ]
  },
  {
   "cell_type": "markdown",
   "id": "1d5e2bcb-cac3-4d49-a646-9a7e4032d25e",
   "metadata": {},
   "source": [
    "We use `row_groups=[0]` to read (that is, download) only a representative part of the dataset. Row groups are contiguous rows of data in the file; the smallest granularity that can be read.\n",
    "\n",
    "This row group has 353 entries (taxis), which is about 4% of the dataset because the file has 25 row groups."
   ]
  },
  {
   "cell_type": "code",
   "execution_count": null,
   "id": "fccf1a6a-7e19-4ce4-b6e3-2d14da6882e4",
   "metadata": {
    "tags": []
   },
   "outputs": [],
   "source": [
    "ak.metadata_from_parquet(\n",
    "    \"https://zenodo.org/records/14537442/files/chicago-taxi.parquet\"\n",
    ")[\"num_row_groups\"]"
   ]
  },
  {
   "cell_type": "markdown",
   "id": "efd6d4cb-f494-4cba-b000-3d76ae6b3b24",
   "metadata": {
    "editable": true,
    "slideshow": {
     "slide_type": ""
    },
    "tags": []
   },
   "source": [
    "<img src=\"../img/columns-and-row-groups.svg\" width=\"100%\">\n",
    "\n",
    "Despite the terms \"row\" and \"column\", the data have a complex type:"
   ]
  },
  {
   "cell_type": "code",
   "execution_count": null,
   "id": "9c82b3f8-c1c7-4062-9e99-d0a96d33dc8d",
   "metadata": {
    "tags": []
   },
   "outputs": [],
   "source": [
    "taxi.type.show()"
   ]
  },
  {
   "cell_type": "markdown",
   "id": "b50a4308-b910-4c5a-82e4-1bc1e130432f",
   "metadata": {},
   "source": [
    "According to the above, this is an array of `353` elements, and each element is a variable length list (`var`) of records. Each list represents one taxi and each record in each list is a taxi trip.\n",
    "\n",
    "The `trip` field contains a record with\n",
    "\n",
    "   * `sec`: duration of taxi ride in seconds\n",
    "   * `km`: distance traveled in kilometers\n",
    "   * `begin.lon`, `begin.lat`: beginning longitude and latitude\n",
    "   * `begin.time`: beginning time of trip\n",
    "   * `end.*`: ending longitude, latitude, and time of trip\n",
    "   * `path.londiff`, `path.latdiff`: reconstructed path relative to `begin.lon`, `begin.lat`\n",
    "\n",
    "The `payment` field contains a record with\n",
    "\n",
    "   * `fare`: nominal taxi fare in U.S. dollars\n",
    "   * `tips`: optional tips\n",
    "   * `total`: total paid (including any taxes or other fees)\n",
    "   * `type`: method of payment\n",
    "\n",
    "And the `company` field contains the name of the taxi company."
   ]
  },
  {
   "cell_type": "markdown",
   "id": "1093312c-e83c-4323-984b-e0480c9431ce",
   "metadata": {},
   "source": [
    "<br><br><br>"
   ]
  },
  {
   "cell_type": "markdown",
   "id": "ee352ecd-c9a0-4aef-b880-6b0542cd5d23",
   "metadata": {},
   "source": [
    "### Specifying columns"
   ]
  },
  {
   "cell_type": "markdown",
   "id": "bd1063b9-4351-4bf0-b52a-ed800deee50c",
   "metadata": {},
   "source": [
    "This exercise only uses a few of the columns:\n",
    "\n",
    "   * `trip.km`\n",
    "   * `trip.begin.l*` (begin longitude and latitude, but not time)\n",
    "   * `trip.path.*` (full paths)\n",
    "\n",
    "We can avoid reading (that is, downloading) the data we won't use by specifying `columns`."
   ]
  },
  {
   "cell_type": "code",
   "execution_count": null,
   "id": "71149d6a-1e3d-4826-85d3-21e8842f82eb",
   "metadata": {
    "tags": []
   },
   "outputs": [],
   "source": [
    "taxi_columns = ak.from_parquet(\n",
    "    \"https://zenodo.org/records/14537442/files/chicago-taxi.parquet\",\n",
    "    columns=[\"trip.km\", \"trip.begin.l*\", \"trip.path.*\"],\n",
    "    row_groups=[0],\n",
    ")\n",
    "taxi_columns"
   ]
  },
  {
   "cell_type": "markdown",
   "id": "6739a741-490a-44f2-bfcc-c68640450a7a",
   "metadata": {},
   "source": [
    "That produces a projection of the data type—records with only the fields we want."
   ]
  },
  {
   "cell_type": "code",
   "execution_count": null,
   "id": "2393efd4-89cc-46de-a156-255a42dc0440",
   "metadata": {
    "tags": []
   },
   "outputs": [],
   "source": [
    "taxi_columns.type.show()"
   ]
  },
  {
   "cell_type": "markdown",
   "id": "6f2ef72e-48f5-4682-bb33-8e6baf36de94",
   "metadata": {},
   "source": [
    "It's possible to get the list of columns without reading the whole dataset."
   ]
  },
  {
   "cell_type": "code",
   "execution_count": null,
   "id": "685140d3-d080-41ab-a130-123e57636e44",
   "metadata": {
    "tags": []
   },
   "outputs": [],
   "source": [
    "ak.metadata_from_parquet(\n",
    "    \"https://zenodo.org/records/14537442/files/chicago-taxi.parquet\"\n",
    ")[\"form\"].columns()"
   ]
  },
  {
   "cell_type": "markdown",
   "id": "48056340-24fd-45e1-a3db-a5fe86ce3082",
   "metadata": {},
   "source": [
    "Between row group-selection and column-selection, you can read just the data you want for the type of analysis you'll be doing."
   ]
  },
  {
   "cell_type": "markdown",
   "id": "c6fbdab0-5a0b-4d0a-9293-654d271d9448",
   "metadata": {},
   "source": [
    "<br><br><br>"
   ]
  },
  {
   "cell_type": "markdown",
   "id": "e9adca9a-7215-4392-a75e-cac31d788e0c",
   "metadata": {},
   "source": [
    "## Exploring the dataset"
   ]
  },
  {
   "cell_type": "markdown",
   "id": "d83c4cfb-6183-4a10-b299-3d877a142c87",
   "metadata": {},
   "source": [
    "Returning to the all-column dataset, here's one taxi in detail. It took 11 trips (most of which couldn't be routed)."
   ]
  },
  {
   "cell_type": "code",
   "execution_count": null,
   "id": "bf8b8e17-8999-401c-aea7-cd29ea4bbc47",
   "metadata": {
    "tags": []
   },
   "outputs": [],
   "source": [
    "taxi_columns[75].to_list()"
   ]
  },
  {
   "cell_type": "markdown",
   "id": "1d57829a-144c-4f1e-99b1-5268be4f60f1",
   "metadata": {},
   "source": [
    "The second-to-last of these has an interesting route."
   ]
  },
  {
   "cell_type": "code",
   "execution_count": null,
   "id": "7addb938-e1ff-4804-bb83-00f230f4a0d3",
   "metadata": {
    "tags": []
   },
   "outputs": [],
   "source": [
    "taxi_columns[75, -2].to_list()"
   ]
  },
  {
   "cell_type": "markdown",
   "id": "0d93f522-8ab9-41a6-8bb6-0067a48d9295",
   "metadata": {},
   "source": [
    "Although individual rows can be presented in a JSON-like way, the dataset was made to be investigated columns at a time.\n",
    "\n",
    "We can extract numerical data by unpacking field names."
   ]
  },
  {
   "cell_type": "code",
   "execution_count": null,
   "id": "82abe0f2-f315-474b-acae-79402327f3ed",
   "metadata": {
    "tags": []
   },
   "outputs": [],
   "source": [
    "taxi_columns[75, -2].trip.path.londiff"
   ]
  },
  {
   "cell_type": "code",
   "execution_count": null,
   "id": "a4eb96e0-ba79-4d67-adfd-7795269db4cd",
   "metadata": {
    "tags": []
   },
   "outputs": [],
   "source": [
    "taxi_columns[75, -2].trip.path.latdiff"
   ]
  },
  {
   "cell_type": "markdown",
   "id": "446b748a-dab8-4e15-a22a-232a2c3d9516",
   "metadata": {},
   "source": [
    "Let's plot it!"
   ]
  },
  {
   "cell_type": "code",
   "execution_count": null,
   "id": "5a0c5486-2f52-4733-a5cb-d0fdd427bc68",
   "metadata": {
    "tags": []
   },
   "outputs": [],
   "source": [
    "fig, ax = plt.subplots(1, 1, figsize=(10, 10))\n",
    "\n",
    "ax.plot(taxi_columns[75, -2].trip.path.londiff, taxi_columns[75, -2].trip.path.latdiff);\n",
    "\n",
    "ax.set_xlim(-0.05, 0.05);\n",
    "ax.set_ylim(-0.05, 0.05);"
   ]
  },
  {
   "cell_type": "markdown",
   "id": "251a2367-66be-4333-a539-9f0196eb425f",
   "metadata": {},
   "source": [
    "Note that this path starts at `(0, 0)`. All of the paths do because these are `londiff` (longitude differences) and `latdiff` (latitude differences).\n",
    "\n",
    "`taxi[1]` went on a lot of trips."
   ]
  },
  {
   "cell_type": "code",
   "execution_count": null,
   "id": "79e9b1d8-0340-443f-968c-466177d9e7b3",
   "metadata": {
    "tags": []
   },
   "outputs": [],
   "source": [
    "fig, ax = plt.subplots(1, 1, figsize=(10, 10))\n",
    "\n",
    "for x in taxi_columns[1]:\n",
    "    ax.plot(x.trip.path.londiff, x.trip.path.latdiff);\n",
    "\n",
    "ax.set_xlim(-0.3, 0.3);\n",
    "ax.set_ylim(-0.3, 0.3);"
   ]
  },
  {
   "cell_type": "markdown",
   "id": "85dc1a57-ee7b-4bb0-af2a-a6f93ff05396",
   "metadata": {},
   "source": [
    "Notice that some of these appear to take the same roads, but they're offset in starting point.\n",
    "\n",
    "We can fix this by adding the `begin.lon` and `begin.lat` to each of these paths.\n",
    "\n",
    "Each trip has one `begin.lon`, `begin.lat` but a sequence of points along the `path`, so adding the `begin` position involves broadcasting:"
   ]
  },
  {
   "cell_type": "code",
   "execution_count": null,
   "id": "b6a33d8b-42eb-4e68-a19e-d672417cdb68",
   "metadata": {
    "tags": []
   },
   "outputs": [],
   "source": [
    "begin_position = 10\n",
    "diffs = ak.Array([0.1, 0.2, 0.3, 0.4, 0.5])\n",
    "\n",
    "begin_position + diffs"
   ]
  },
  {
   "cell_type": "markdown",
   "id": "46986959-dddf-4310-a0f3-0901cb22afa7",
   "metadata": {},
   "source": [
    "Here's what that looks like for a single trip:"
   ]
  },
  {
   "cell_type": "code",
   "execution_count": null,
   "id": "90cbc367-af4f-4f97-9d49-edf2d3b1b9d8",
   "metadata": {
    "tags": []
   },
   "outputs": [],
   "source": [
    "begin_position = taxi_columns[75, -2].trip.begin.lon\n",
    "begin_position"
   ]
  },
  {
   "cell_type": "code",
   "execution_count": null,
   "id": "66ad3e99-33e9-402b-9124-cc8368dcf37c",
   "metadata": {
    "tags": []
   },
   "outputs": [],
   "source": [
    "diffs = taxi_columns[75, -2].trip.path.londiff\n",
    "diffs"
   ]
  },
  {
   "cell_type": "code",
   "execution_count": null,
   "id": "ba7ed587-bae5-4ea9-aab3-cd0247d80411",
   "metadata": {
    "tags": []
   },
   "outputs": [],
   "source": [
    "broadcasted = begin_position + diffs\n",
    "broadcasted"
   ]
  },
  {
   "cell_type": "markdown",
   "id": "884bf7de-4f20-4ab0-a16d-59d9607e920b",
   "metadata": {},
   "source": [
    "And here's what that looks like for a lot of trips:"
   ]
  },
  {
   "cell_type": "code",
   "execution_count": null,
   "id": "967990ab-14ec-4339-8228-e0a608e8c652",
   "metadata": {
    "tags": []
   },
   "outputs": [],
   "source": [
    "many_begin_positions = taxi_columns[1].trip.begin.lon\n",
    "many_begin_positions"
   ]
  },
  {
   "cell_type": "code",
   "execution_count": null,
   "id": "205e68a6-3c75-41b7-983a-b7d39a51ad39",
   "metadata": {
    "tags": []
   },
   "outputs": [],
   "source": [
    "many_diffs = taxi_columns[1].trip.path.londiff\n",
    "many_diffs"
   ]
  },
  {
   "cell_type": "code",
   "execution_count": null,
   "id": "73732352-00d1-403e-8d60-7fd6c1338f90",
   "metadata": {
    "tags": []
   },
   "outputs": [],
   "source": [
    "broadcasted = many_begin_positions + many_diffs\n",
    "broadcasted"
   ]
  },
  {
   "cell_type": "markdown",
   "id": "cf868708-39e7-4bb0-a76d-c8ee0d49d01c",
   "metadata": {},
   "source": [
    "Take a close look at the types: `many_begin_positions` is 499 floating point numbers and `many_diffs` is 499 lists of floating point numbers.\n",
    "\n",
    "The broadcasted sum is 499 lists of floating point numbers, with `option` type to allow for missing values (`None`).\n",
    "\n",
    "The missing values can be identified and removed with [ak.is_none](https://awkward-array.org/doc/main/reference/generated/ak.is_none.html)."
   ]
  },
  {
   "cell_type": "code",
   "execution_count": null,
   "id": "13f63c8a-4eff-4aca-8875-d332e4849ab0",
   "metadata": {
    "tags": []
   },
   "outputs": [],
   "source": [
    "longitudes = taxi_columns[1].trip.begin.lon + taxi_columns[1].trip.path.londiff\n",
    "latitudes = taxi_columns[1].trip.begin.lat + taxi_columns[1].trip.path.latdiff\n",
    "\n",
    "longitudes = longitudes[~ak.is_none(longitudes)]\n",
    "latitudes = latitudes[~ak.is_none(latitudes)]"
   ]
  },
  {
   "cell_type": "code",
   "execution_count": null,
   "id": "6a368183-7a4d-4372-9195-c8440de03322",
   "metadata": {
    "tags": []
   },
   "outputs": [],
   "source": [
    "longitudes"
   ]
  },
  {
   "cell_type": "markdown",
   "id": "d98c261d-f81f-4d1e-a712-7aa299988e92",
   "metadata": {},
   "source": [
    "Now the trips to the airport and along the lake front are beginning to line up."
   ]
  },
  {
   "cell_type": "code",
   "execution_count": null,
   "id": "203ec337-a98b-4c66-b33a-1b77754c806e",
   "metadata": {
    "tags": []
   },
   "outputs": [],
   "source": [
    "fig, ax = plt.subplots(1, 1, figsize=(10, 10))\n",
    "\n",
    "for x, y in zip(longitudes, latitudes):\n",
    "    ax.plot(x, y);\n",
    "\n",
    "ax.set_xlim(-87.95, -87.57);\n",
    "ax.set_ylim(41.77, 42.02);"
   ]
  },
  {
   "cell_type": "markdown",
   "id": "ce204e08-96ed-43fd-9090-3f1e7b065082",
   "metadata": {},
   "source": [
    "Broadcasting `begin.lon`, `begin.lat` offsets into lists of lists, we use the same syntax as for lists.\n",
    "\n",
    "Just replace `taxi_columns[1]` → `taxi_columns` to apply it to all taxis at once."
   ]
  },
  {
   "cell_type": "code",
   "execution_count": null,
   "id": "32318fe4-f30f-433b-8236-4f073b291ff1",
   "metadata": {
    "tags": []
   },
   "outputs": [],
   "source": [
    "all_longitudes = taxi_columns.trip.begin.lon + taxi_columns.trip.path.londiff\n",
    "all_latitudes = taxi_columns.trip.begin.lat + taxi_columns.trip.path.latdiff\n",
    "\n",
    "all_longitudes"
   ]
  },
  {
   "cell_type": "markdown",
   "id": "89582058-e8bd-4d64-8427-53635ef4dfc6",
   "metadata": {},
   "source": [
    "Since we're not plotting, we'll leave the missing values in for now."
   ]
  },
  {
   "cell_type": "markdown",
   "id": "87ab20ee-68b9-4038-9556-5a928619342b",
   "metadata": {},
   "source": [
    "<br><br><br>"
   ]
  },
  {
   "cell_type": "markdown",
   "id": "51976828-f6e1-458c-9558-d5916202f126",
   "metadata": {},
   "source": [
    "### Longitude, latitude → kilometers"
   ]
  },
  {
   "cell_type": "markdown",
   "id": "92d6b91d-98c0-4eb0-8ff1-9913156b3a24",
   "metadata": {},
   "source": [
    "Longitudes and latitudes are not uniform distances. One degree of longitude covers 1/360 of the Earth at the equator, but zero length at the north and south poles!\n",
    "\n",
    "To do meaningful distance calculations, we need to convert them into distance units, such as kilometers.\n",
    "\n",
    "At Chicago's latitude, one degree of longitude is about 83 km and one degree of longitude is about 111 km.\n",
    "\n",
    "Let's apply this correction to all path points, across all lists of lists, using broadcasting."
   ]
  },
  {
   "cell_type": "code",
   "execution_count": null,
   "id": "4ae7a0f6-bfc1-48af-9cf3-2f3ead9dfcaf",
   "metadata": {
    "tags": []
   },
   "outputs": [],
   "source": [
    "LONGITUDE, LATITUDE = -87.66178320769112, 41.896777262111726   # mean position (center of town)\n",
    "LON_TO_KM, LAT_TO_KM = 82.98452409203695, 111.07127961503745   # lon, lat → km conversion factors"
   ]
  },
  {
   "cell_type": "code",
   "execution_count": null,
   "id": "247a7bd0-33e8-4549-b7d7-67e49f79f05d",
   "metadata": {
    "tags": []
   },
   "outputs": [],
   "source": [
    "km_east, km_north = (\n",
    "    (all_longitudes - LONGITUDE) * LON_TO_KM,\n",
    "    (all_latitudes - LATITUDE) * LAT_TO_KM,\n",
    ")\n",
    "\n",
    "km_east"
   ]
  },
  {
   "cell_type": "markdown",
   "id": "461bdce0-ee3b-4141-a58d-ea6b997eff00",
   "metadata": {},
   "source": [
    "In real distance units, `taxi[1]`'s trips look like this:"
   ]
  },
  {
   "cell_type": "code",
   "execution_count": null,
   "id": "a969e0d0-a0be-49e9-b2f3-947007947a0c",
   "metadata": {
    "tags": []
   },
   "outputs": [],
   "source": [
    "fig, ax = plt.subplots(1, 1, figsize=(10, 10))\n",
    "\n",
    "for x, y in zip(km_east[1], km_north[1]):\n",
    "    if x is not None and y is not None:\n",
    "        ax.plot(x, y);\n",
    "\n",
    "ax.set_xlim(-23, -23 + 30);\n",
    "ax.set_ylim(-15, -15 + 30);"
   ]
  },
  {
   "cell_type": "markdown",
   "id": "4891005a-f841-4be8-a399-13dfd98f1c37",
   "metadata": {},
   "source": [
    "<br><br><br>"
   ]
  },
  {
   "cell_type": "markdown",
   "id": "3d014b49-e1ac-45fe-a350-b218f51855fd",
   "metadata": {},
   "source": [
    "## Exercise 1"
   ]
  },
  {
   "cell_type": "markdown",
   "id": "b1c12a14-6c2f-4db3-a81e-48ea71d8eb9c",
   "metadata": {
    "editable": true,
    "slideshow": {
     "slide_type": ""
    },
    "tags": []
   },
   "source": [
    "The goal of this exercise is to calculate the length of each `path`.\n",
    "\n",
    "The length of a given `path` is the sum of segment lengths, $\\displaystyle \\sum_i^{n - 1} \\Delta r_i$, where\n",
    "\n",
    "   * the segment length $\\Delta r_i = \\sqrt{\\Delta x_i^2 + \\Delta y_i^2}$\n",
    "   * $\\Delta x_i = x_{i + 1} - x_i$, and $x_i$ is a `km_east` point in the `path`\n",
    "   * $\\Delta y_i = y_{i + 1} - y_i$, and $y_i$ is a `km_north` point in the `path`\n",
    "   * $n$ is the (variable) number of points in the `path`\n",
    "\n",
    "<br>\n",
    "\n",
    "<center>\n",
    "<img src=\"../img/length-by-segment.svg\" width=\"500px\">\n",
    "</center>"
   ]
  },
  {
   "cell_type": "markdown",
   "id": "b30330c0-c5ff-4aa0-bc20-985c5222b6aa",
   "metadata": {},
   "source": [
    "Here's an example of the calculation for one taxi ride, using an imperative `for` loop:"
   ]
  },
  {
   "cell_type": "code",
   "execution_count": null,
   "id": "61bef044-2177-4497-b8d4-34d3935c4b33",
   "metadata": {
    "tags": []
   },
   "outputs": [],
   "source": [
    "example_east, example_north = (\n",
    "    km_east[75, -2],\n",
    "    km_north[75, -2],\n",
    ")\n",
    "\n",
    "length = 0\n",
    "for i in range(len(example_east) - 1):\n",
    "    Δx = example_east[i + 1] - example_east[i]\n",
    "    Δy = example_north[i + 1] - example_north[i]\n",
    "    Δr = np.sqrt(Δx**2 + Δy**2)\n",
    "    length += Δr\n",
    "\n",
    "length"
   ]
  },
  {
   "cell_type": "markdown",
   "id": "49596a01-0c9c-48d6-9e7c-5d4cf312fad4",
   "metadata": {},
   "source": [
    "**Your solution must** (a) apply to all trips of all taxis in the dataset, so output type is `353 * var * ?float64`, and (b) use array-at-a-time syntax.\n",
    "\n",
    "It would probably fit on one line.\n",
    "\n",
    "```python\n",
    "distances = ???\n",
    "```\n",
    "\n",
    "In Jupyter, `distances` should look like this:\n",
    "\n",
    "```\n",
    "[[0, 9.63, 6.2, 2.07, 10.1, 0, 1.21, ..., 1.34, 12.2, 6.27, 2.58, 7.27, 0, 0],\n",
    " [0, 0, 0, 0, 0, 0, 0, 3.56, None, ..., 0, 24.5, 0, 6.22, 2.26, 7.24, 22.1, 0],\n",
    " [1.75, 4.82, 3.71, 2.86, 6.41, 6.89, ..., 2.72, 3.65, 28.3, 0, 24.8, None],\n",
    " [1.17, 2.39, 1.07, 4.85, 2.95, 2.78, ..., 0.899, 2.61, 2.22, 1.43, 11.9, 3.65],\n",
    " [0, 0, 0, 0, 0, 0, 0, 0, 0, ..., 22.9, 23.4, 0, 0, 20.5, 22.9, 23.2, 3.09],\n",
    " [29, 2.25, 2.91, 0, 27.9, 16.7, 21.1, ..., 2.49, 0, 14.5, 0, 0, 23.6, 3.44],\n",
    " [27.5, 1.59, 1.36, 1.48, 2.46, 1.24, ..., 4.43, 6.22, 26.9, None, 0, 1.24],\n",
    " [],\n",
    " [4.67, 6.23, 1.35, 4.36, 0, 20.9, 0, ..., 26.9, 23.1, None, 20, 0, 16.6, 21.4],\n",
    " [0, 0, 0, 0, 0, 0, 0, 2.88, ..., 14.9, 19.9, 17.8, 9.15, 10.6, 12.2, 16.5, 14],\n",
    " ...,\n",
    " [1.52, 1.93, 5.76, 5.76, 2.95, 0, ..., 4.18, 1.45, 26.9, 3.55, 4.69, 2.92],\n",
    " [None, None, None, None, None, None, None],\n",
    " [None, None, None, None, None, None, ..., None, None, None, None, None, None],\n",
    " [None, None, None, None, None, None, ..., None, None, None, None, None, None],\n",
    " [None, None, None, None, None, None, ..., None, None, None, None, None, None],\n",
    " [0, 9.56, 0, 0, 0, 0, 0, 30.2, 1.41, 0, 0, ..., 0, 0, 0, 0, 0, 0, 0, 0, 0, 0],\n",
    " [None, 0, 0, 0, 4.89, 0, 0, None, ..., 4.11, 1.6, 0, 9.89, 21.1, 0, None],\n",
    " [1.42, 27.6, 1.62, 3.36, 1.62, 1.62, ..., 1.41, 1.62, 2.22, 1.62, 5.11, 7.12],\n",
    " [0, 0, 13.9, 27.8, 3.36, 1.41, 2.26, ..., 5.12, 2.94, 5.53, 0, 1.28, 4.67, 0]]\n",
    " ------------------------------------------------------------------------------\n",
    " 353 * var * ?float64\n",
    "```"
   ]
  },
  {
   "cell_type": "markdown",
   "id": "9d632379-ed22-4e6d-8683-c9812149e99e",
   "metadata": {},
   "source": [
    "<br><br><br>"
   ]
  },
  {
   "cell_type": "markdown",
   "id": "b4128e10-6900-49fd-90c1-900986bace47",
   "metadata": {},
   "source": [
    "### Hints (only use if you're stuck)"
   ]
  },
  {
   "cell_type": "markdown",
   "id": "00032b03-ec3f-4686-8b30-2b634e181201",
   "metadata": {
    "editable": true,
    "slideshow": {
     "slide_type": ""
    },
    "tags": []
   },
   "source": [
    "<details>\n",
    "    <summary>Differences between neighboring elements in an array?</summary>\n",
    "\n",
    "<br>\n",
    "\n",
    "Suppose you have some fenceposts and you want the differences between the fenceposts.\n",
    "\n",
    "```python\n",
    "fenceposts = np.array([1.1, 2.2, 3.3, 4.4, 5.5, 10, 20, 30])\n",
    "```\n",
    "\n",
    "<br>\n",
    "\n",
    "Note that `fenceposts[1:]` is `array([ 2.2,  3.3,  4.4,  5.5, 10. , 20. , 30. ])` and `fenceposts[:-1]` is `array([ 1.1,  2.2,  3.3,  4.4,  5.5, 10. , 20. ])`. Just subtract them!\n",
    "\n",
    "```python\n",
    "fenceposts[1:] - fenceposts[:-1] → array([ 1.1,  1.1,  1.1,  1.1,  4.5, 10. , 10. ])\n",
    "```\n",
    "\n",
    "</details>"
   ]
  },
  {
   "cell_type": "markdown",
   "id": "4eaf8881-053a-474a-bfd5-1837acbae0b1",
   "metadata": {
    "editable": true,
    "slideshow": {
     "slide_type": ""
    },
    "tags": []
   },
   "source": [
    "<details>\n",
    "    <summary>Differences between neighboring elements in deeply nested lists of lists?</summary>\n",
    "\n",
    "<br>\n",
    "\n",
    "Suppose you have lists of fenceposts and you want the differences between the fenceposts within each list.\n",
    "\n",
    "```python\n",
    "fenceposts = ak.Array([[1.1, 2.2, 3.3, 4.4, 5.5], [], [10, 20, 30]])\n",
    "```\n",
    "\n",
    "<br>\n",
    "\n",
    "Note that `fenceposts[:, 1:]` is `<Array [[2.2, 3.3, 4.4, 5.5], [], [20, 30]] type='3 * var * float64'>` and `fenceposts[:, :-1]` is `<Array [[1.1, 2.2, 3.3, 4.4], [], [10, 20]] type='3 * var * float64'>`. Be sure to get the right number of colons (`:`) to pass over the levels of nesting that you don't want to disturb, or use ellipsis (`...`) to descend to the deepest level.\n",
    "\n",
    "```python\n",
    "fenceposts[:, 1:] - fenceposts[:, :-1] → <Array [[1.1, 1.1, 1.1, 1.1], [], [10, 10]] type='3 * var * float64'>\n",
    "```\n",
    "\n",
    "</details>"
   ]
  },
  {
   "cell_type": "markdown",
   "id": "13c31111-88a0-46aa-8d90-cea1d3a816cb",
   "metadata": {
    "editable": true,
    "slideshow": {
     "slide_type": ""
    },
    "tags": []
   },
   "source": [
    "<details>\n",
    "    <summary>Mathematical operations on all elements of an array of lists of lists?</summary>\n",
    "\n",
    "<br>\n",
    "\n",
    "When a [NumPy ufunc](https://numpy.org/doc/stable/reference/ufuncs.html) is applied to an Awkward Array, the output is an Awkward Array with the same structure and that ufunc applied to each element.\n",
    "\n",
    "<br>\n",
    "\n",
    "Some ufuncs are in the NumPy namespace, such as [np.sqrt](https://numpy.org/doc/stable/reference/generated/numpy.sqrt.html), and some are binary operators, such as `-` and `**`.\n",
    "\n",
    "</details>"
   ]
  },
  {
   "cell_type": "markdown",
   "id": "d4c532be-fb79-47ba-ab6a-96e5f818df88",
   "metadata": {
    "editable": true,
    "slideshow": {
     "slide_type": ""
    },
    "tags": []
   },
   "source": [
    "<details>\n",
    "    <summary>Summing over the deepest levels of lists without affecting outer ones?</summary>\n",
    "\n",
    "<br>\n",
    "\n",
    "Remember that [ak.sum](https://awkward-array.org/doc/main/reference/generated/ak.sum.html) takes an `axis` argument. It works like NumPy's `axis`, assuming that all irregular-length lists are left-aligned and missing values are skipped over.\n",
    "\n",
    "<img src=\"../img/example-reducer-ragged.svg\" width=\"50%\">\n",
    "\n",
    "The innermost lists correspond to the largest allowed `axis` value. As usual in Python, you can start counting from the other end; an alias for the largest allowed `axis` is `axis=-1`.\n",
    "\n",
    "</details>"
   ]
  },
  {
   "cell_type": "markdown",
   "id": "00d35a12-9ad8-4e15-bf11-3d1a6cf5cc67",
   "metadata": {},
   "source": [
    "<br><br><br>"
   ]
  },
  {
   "cell_type": "markdown",
   "id": "7a411c92-73bd-4220-84d4-5f41575702c1",
   "metadata": {},
   "source": [
    "## Exercise 2"
   ]
  },
  {
   "cell_type": "markdown",
   "id": "98ee1217-7597-4ecb-9506-a9c193720689",
   "metadata": {
    "editable": true,
    "slideshow": {
     "slide_type": ""
    },
    "tags": []
   },
   "source": [
    "If the main exercise was easy and you need something else to do, try calculating the distance between each beginning (`path[0]`) and each endpoint (`path[-1]`) \"as the crow flies.\"\n",
    "\n",
    "<center>\n",
    "<img src=\"../img/as-the-crow-flies.svg\" width=\"500px\">\n",
    "</center>\n",
    "\n",
    "(Don't use the `begin.lon`, `begin.lat` and `end.lon`, `end.lat`; use the `path[0]` and `path[-1]`.)\n",
    "\n",
    "You will encounter an issue when you try to select the first and last item from empty lists—it's an `IndexError`!"
   ]
  },
  {
   "cell_type": "code",
   "execution_count": null,
   "id": "c5fd403c-c45e-4459-aecc-9434d56f610a",
   "metadata": {
    "editable": true,
    "slideshow": {
     "slide_type": ""
    },
    "tags": [
     "raises-exception"
    ]
   },
   "outputs": [],
   "source": [
    "contains_empty_lists = ak.Array([[1.1, 2.2, 3.3], [], [4.4, 5.5]])\n",
    "\n",
    "contains_empty_lists[:, 0]  # should raise an error"
   ]
  },
  {
   "cell_type": "markdown",
   "id": "81ae0b5a-491f-4a9b-afcd-7ea14bc585d5",
   "metadata": {},
   "source": [
    "<br><br><br>"
   ]
  },
  {
   "cell_type": "markdown",
   "id": "b15eb2e8-c4ad-4483-a820-743bcb545409",
   "metadata": {},
   "source": [
    "### First way to fix it: padding the lists"
   ]
  },
  {
   "cell_type": "markdown",
   "id": "97dda009-300c-4dbe-9f48-f877b9be1755",
   "metadata": {},
   "source": [
    "One way to solve this is with [ak.pad_none](https://awkward-array.org/doc/main/reference/generated/ak.pad_none.html) and [ak.fill_none](https://awkward-array.org/doc/main/reference/generated/ak.fill_none.html):"
   ]
  },
  {
   "cell_type": "code",
   "execution_count": null,
   "id": "2e73a34f-1dd4-43e8-9118-88eb496f24e1",
   "metadata": {
    "tags": []
   },
   "outputs": [],
   "source": [
    "contains_empty_lists"
   ]
  },
  {
   "cell_type": "code",
   "execution_count": null,
   "id": "a602d17f-c1b6-4f23-8a68-73e2e572328d",
   "metadata": {
    "tags": []
   },
   "outputs": [],
   "source": [
    "ak.pad_none(contains_empty_lists, 2)"
   ]
  },
  {
   "cell_type": "code",
   "execution_count": null,
   "id": "c94d9437-d5cb-4eae-9fe3-4be6bb8db820",
   "metadata": {
    "tags": []
   },
   "outputs": [],
   "source": [
    "ak.fill_none(ak.pad_none(contains_empty_lists, 2), 0)"
   ]
  },
  {
   "cell_type": "markdown",
   "id": "0035687b-91b8-4edc-9fd5-5f67d9356fb5",
   "metadata": {},
   "source": [
    "Now you can select element `0` and element `-1`: they're zero!"
   ]
  },
  {
   "cell_type": "code",
   "execution_count": null,
   "id": "55998999-7aab-459e-85bf-4b0b7287936e",
   "metadata": {
    "tags": []
   },
   "outputs": [],
   "source": [
    "doesnt_contain_empty_lists = ak.fill_none(ak.pad_none(contains_empty_lists, 2), 0)\n",
    "\n",
    "doesnt_contain_empty_lists[:, 0]"
   ]
  },
  {
   "cell_type": "markdown",
   "id": "6da07b7b-fe4e-4911-977a-5ba4f9ada62e",
   "metadata": {},
   "source": [
    "How would you apply this technique to _deeply_ nested lists?"
   ]
  },
  {
   "cell_type": "markdown",
   "id": "1f9cd546-79fd-4aa5-a9c7-54543bf81beb",
   "metadata": {},
   "source": [
    "<br><br><br>"
   ]
  },
  {
   "cell_type": "markdown",
   "id": "480faf32-2521-4d9b-a642-f0efe7bada87",
   "metadata": {},
   "source": [
    "### Second way to fix it: turning empty lists into None"
   ]
  },
  {
   "cell_type": "markdown",
   "id": "88d1deb9-5c64-4437-984e-aea73ab2fc3b",
   "metadata": {
    "tags": []
   },
   "source": [
    "The [ak.num](https://awkward-array.org/doc/main/reference/generated/ak.num.html) function tells you how many items are in each list. (Note that it takes an `axis` argument; useful if you need to know the lengths of deeply nested lists.)"
   ]
  },
  {
   "cell_type": "code",
   "execution_count": null,
   "id": "9509f10e-6b0d-43f9-91fe-8739dcf7b21d",
   "metadata": {
    "tags": []
   },
   "outputs": [],
   "source": [
    "ak.num(contains_empty_lists)"
   ]
  },
  {
   "cell_type": "markdown",
   "id": "4c940644-7ed1-4b06-a0dc-803e5091b377",
   "metadata": {},
   "source": [
    "You could use this to remove the empty lists from your dataset."
   ]
  },
  {
   "cell_type": "code",
   "execution_count": null,
   "id": "be8b2c20-2d19-4b89-b08e-3bd0478268c5",
   "metadata": {
    "tags": []
   },
   "outputs": [],
   "source": [
    "contains_empty_lists[ak.num(contains_empty_lists) != 0]"
   ]
  },
  {
   "cell_type": "markdown",
   "id": "8329e4df-7196-4a7a-88df-9935581ef275",
   "metadata": {},
   "source": [
    "But that changes the indexing: the sliced array has length `2` instead of length `3`, which would be a problem if you want to align this result with something else derived from the original array.\n",
    "\n",
    "Awkward Array also has a \"mask-slice,\" which is like slicing with a boolean array except that elements are replaced with `None`, rather than removed."
   ]
  },
  {
   "cell_type": "code",
   "execution_count": null,
   "id": "82788c1e-033a-46f5-a083-1ded3fe4882e",
   "metadata": {
    "tags": []
   },
   "outputs": [],
   "source": [
    "doesnt_contain_empty_lists = contains_empty_lists.mask[ak.num(contains_empty_lists) != 0]\n",
    "doesnt_contain_empty_lists"
   ]
  },
  {
   "cell_type": "markdown",
   "id": "39ed9467-3898-423a-992a-b78ed1fcaf10",
   "metadata": {},
   "source": [
    "The `doesnt_contain_empty_lists` array has length `3`, and you can select item `0` from each list:"
   ]
  },
  {
   "cell_type": "code",
   "execution_count": null,
   "id": "e6f44e09-6652-40d6-a0d4-9350b62621d2",
   "metadata": {
    "tags": []
   },
   "outputs": [],
   "source": [
    "doesnt_contain_empty_lists[:, 0]"
   ]
  },
  {
   "cell_type": "markdown",
   "id": "61c0ab65-819c-4151-bf6c-e76e0b9fd551",
   "metadata": {
    "editable": true,
    "slideshow": {
     "slide_type": ""
    },
    "tags": []
   },
   "source": [
    "because item `0` of `None` is `None`. Any calculation you do on `None` is `None`.\n",
    "\n",
    "How would you apply this technique to _deeply_ nested lists?"
   ]
  }
 ],
 "metadata": {
  "kernelspec": {
   "display_name": "Python 3 (ipykernel)",
   "language": "python",
   "name": "python3"
  },
  "language_info": {
   "codemirror_mode": {
    "name": "ipython",
    "version": 3
   },
   "file_extension": ".py",
   "mimetype": "text/x-python",
   "name": "python",
   "nbconvert_exporter": "python",
   "pygments_lexer": "ipython3",
   "version": "3.10.18"
  }
 },
 "nbformat": 4,
 "nbformat_minor": 5
}
